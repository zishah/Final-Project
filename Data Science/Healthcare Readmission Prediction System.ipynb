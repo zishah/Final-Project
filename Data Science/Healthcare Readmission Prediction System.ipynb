{
 "cells": [
  {
   "cell_type": "markdown",
   "id": "f9a9e448",
   "metadata": {},
   "source": [
    "# 🔍 1. Healthcare Readmission Prediction System\n",
    "## 📌 Problem Statement:\n",
    "Hospitals want to reduce unnecessary readmissions within 30 days of discharge, which cost billions annually and reduce care quality.\n",
    "## 🎯 Objectives:\n",
    "-\tPredict if a patient will be readmitted within 30 days\n",
    "-\tIdentify risk factors contributing to readmission\n",
    "-\tHelp hospital staff intervene early\n",
    "## 🪜 Steps to Implement:\n",
    "-\tUse datasets like Hospital Readmissions (UCI)\n",
    "-\tData preprocessing (missing values, encoding)\n",
    "-\tUse classification algorithms: Logistic Regression, Random Forest, XGBoost\n",
    "-\tFeature importance analysis\n",
    "-\tBuild a simple app with Streamlit for clinicians\n",
    "## 🧠 Final Insights:\n",
    "-\tModel to predict readmission with 75%+ accuracy\n",
    "-\tRisk factors like number of previous visits, specific diagnoses\n",
    "-\tRecommendations for personalized post-discharge plans\n"
   ]
  },
  {
   "cell_type": "markdown",
   "id": "ba086cbf",
   "metadata": {},
   "source": [
    "### Importing Libraries"
   ]
  },
  {
   "cell_type": "code",
   "execution_count": 1,
   "id": "b036adfa",
   "metadata": {},
   "outputs": [],
   "source": [
    "import pandas as pd\n",
    "import numpy as np\n",
    "import matplotlib.pyplot as plt\n",
    "import seaborn as sns\n",
    "import streamlit as st\n"
   ]
  },
  {
   "cell_type": "code",
   "execution_count": 2,
   "id": "8bb2324b",
   "metadata": {},
   "outputs": [],
   "source": [
    "from sklearn.model_selection import train_test_split\n",
    "from sklearn.linear_model import LogisticRegression\n",
    "from sklearn.ensemble import RandomForestClassifier\n",
    "from sklearn.metrics import classification_report, accuracy_score, confusion_matrix, ConfusionMatrixDisplay"
   ]
  },
  {
   "cell_type": "markdown",
   "id": "5c29e1a1",
   "metadata": {},
   "source": [
    "### Preprocessing Data"
   ]
  },
  {
   "cell_type": "code",
   "execution_count": 3,
   "id": "c4c9d450",
   "metadata": {},
   "outputs": [
    {
     "name": "stdout",
     "output_type": "stream",
     "text": [
      "<class 'pandas.core.frame.DataFrame'>\n",
      "RangeIndex: 101766 entries, 0 to 101765\n",
      "Data columns (total 50 columns):\n",
      " #   Column                    Non-Null Count   Dtype \n",
      "---  ------                    --------------   ----- \n",
      " 0   encounter_id              101766 non-null  int64 \n",
      " 1   patient_nbr               101766 non-null  int64 \n",
      " 2   race                      101766 non-null  object\n",
      " 3   gender                    101766 non-null  object\n",
      " 4   age                       101766 non-null  object\n",
      " 5   weight                    101766 non-null  object\n",
      " 6   admission_type_id         101766 non-null  int64 \n",
      " 7   discharge_disposition_id  101766 non-null  int64 \n",
      " 8   admission_source_id       101766 non-null  int64 \n",
      " 9   time_in_hospital          101766 non-null  int64 \n",
      " 10  payer_code                101766 non-null  object\n",
      " 11  medical_specialty         101766 non-null  object\n",
      " 12  num_lab_procedures        101766 non-null  int64 \n",
      " 13  num_procedures            101766 non-null  int64 \n",
      " 14  num_medications           101766 non-null  int64 \n",
      " 15  number_outpatient         101766 non-null  int64 \n",
      " 16  number_emergency          101766 non-null  int64 \n",
      " 17  number_inpatient          101766 non-null  int64 \n",
      " 18  diag_1                    101766 non-null  object\n",
      " 19  diag_2                    101766 non-null  object\n",
      " 20  diag_3                    101766 non-null  object\n",
      " 21  number_diagnoses          101766 non-null  int64 \n",
      " 22  max_glu_serum             5346 non-null    object\n",
      " 23  A1Cresult                 17018 non-null   object\n",
      " 24  metformin                 101766 non-null  object\n",
      " 25  repaglinide               101766 non-null  object\n",
      " 26  nateglinide               101766 non-null  object\n",
      " 27  chlorpropamide            101766 non-null  object\n",
      " 28  glimepiride               101766 non-null  object\n",
      " 29  acetohexamide             101766 non-null  object\n",
      " 30  glipizide                 101766 non-null  object\n",
      " 31  glyburide                 101766 non-null  object\n",
      " 32  tolbutamide               101766 non-null  object\n",
      " 33  pioglitazone              101766 non-null  object\n",
      " 34  rosiglitazone             101766 non-null  object\n",
      " 35  acarbose                  101766 non-null  object\n",
      " 36  miglitol                  101766 non-null  object\n",
      " 37  troglitazone              101766 non-null  object\n",
      " 38  tolazamide                101766 non-null  object\n",
      " 39  examide                   101766 non-null  object\n",
      " 40  citoglipton               101766 non-null  object\n",
      " 41  insulin                   101766 non-null  object\n",
      " 42  glyburide-metformin       101766 non-null  object\n",
      " 43  glipizide-metformin       101766 non-null  object\n",
      " 44  glimepiride-pioglitazone  101766 non-null  object\n",
      " 45  metformin-rosiglitazone   101766 non-null  object\n",
      " 46  metformin-pioglitazone    101766 non-null  object\n",
      " 47  change                    101766 non-null  object\n",
      " 48  diabetesMed               101766 non-null  object\n",
      " 49  readmitted                101766 non-null  object\n",
      "dtypes: int64(13), object(37)\n",
      "memory usage: 38.8+ MB\n",
      "None\n"
     ]
    },
    {
     "data": {
      "text/plain": [
       "encounter_id                    0\n",
       "patient_nbr                     0\n",
       "race                            0\n",
       "gender                          0\n",
       "age                             0\n",
       "weight                          0\n",
       "admission_type_id               0\n",
       "discharge_disposition_id        0\n",
       "admission_source_id             0\n",
       "time_in_hospital                0\n",
       "payer_code                      0\n",
       "medical_specialty               0\n",
       "num_lab_procedures              0\n",
       "num_procedures                  0\n",
       "num_medications                 0\n",
       "number_outpatient               0\n",
       "number_emergency                0\n",
       "number_inpatient                0\n",
       "diag_1                          0\n",
       "diag_2                          0\n",
       "diag_3                          0\n",
       "number_diagnoses                0\n",
       "max_glu_serum               96420\n",
       "A1Cresult                   84748\n",
       "metformin                       0\n",
       "repaglinide                     0\n",
       "nateglinide                     0\n",
       "chlorpropamide                  0\n",
       "glimepiride                     0\n",
       "acetohexamide                   0\n",
       "glipizide                       0\n",
       "glyburide                       0\n",
       "tolbutamide                     0\n",
       "pioglitazone                    0\n",
       "rosiglitazone                   0\n",
       "acarbose                        0\n",
       "miglitol                        0\n",
       "troglitazone                    0\n",
       "tolazamide                      0\n",
       "examide                         0\n",
       "citoglipton                     0\n",
       "insulin                         0\n",
       "glyburide-metformin             0\n",
       "glipizide-metformin             0\n",
       "glimepiride-pioglitazone        0\n",
       "metformin-rosiglitazone         0\n",
       "metformin-pioglitazone          0\n",
       "change                          0\n",
       "diabetesMed                     0\n",
       "readmitted                      0\n",
       "dtype: int64"
      ]
     },
     "execution_count": 3,
     "metadata": {},
     "output_type": "execute_result"
    }
   ],
   "source": [
    "df = pd.read_csv('diabetic_data.csv')\n",
    "df.head()\n",
    "print(df.info())\n",
    "df.isnull().sum()"
   ]
  },
  {
   "cell_type": "code",
   "execution_count": 4,
   "id": "10bce630",
   "metadata": {},
   "outputs": [
    {
     "name": "stdout",
     "output_type": "stream",
     "text": [
      "encounter_id: 0\n",
      "patient_nbr: 0\n",
      "race: 2273\n",
      "gender: 0\n",
      "age: 0\n",
      "weight: 98569\n",
      "admission_type_id: 0\n",
      "discharge_disposition_id: 0\n",
      "admission_source_id: 0\n",
      "time_in_hospital: 0\n",
      "payer_code: 40256\n",
      "medical_specialty: 49949\n",
      "num_lab_procedures: 0\n",
      "num_procedures: 0\n",
      "num_medications: 0\n",
      "number_outpatient: 0\n",
      "number_emergency: 0\n",
      "number_inpatient: 0\n",
      "diag_1: 21\n",
      "diag_2: 358\n",
      "diag_3: 1423\n",
      "number_diagnoses: 0\n",
      "max_glu_serum: 0\n",
      "A1Cresult: 0\n",
      "metformin: 0\n",
      "repaglinide: 0\n",
      "nateglinide: 0\n",
      "chlorpropamide: 0\n",
      "glimepiride: 0\n",
      "acetohexamide: 0\n",
      "glipizide: 0\n",
      "glyburide: 0\n",
      "tolbutamide: 0\n",
      "pioglitazone: 0\n",
      "rosiglitazone: 0\n",
      "acarbose: 0\n",
      "miglitol: 0\n",
      "troglitazone: 0\n",
      "tolazamide: 0\n",
      "examide: 0\n",
      "citoglipton: 0\n",
      "insulin: 0\n",
      "glyburide-metformin: 0\n",
      "glipizide-metformin: 0\n",
      "glimepiride-pioglitazone: 0\n",
      "metformin-rosiglitazone: 0\n",
      "metformin-pioglitazone: 0\n",
      "change: 0\n",
      "diabetesMed: 0\n",
      "readmitted: 0\n"
     ]
    }
   ],
   "source": [
    "for col in df.columns:\n",
    "    print(f\"{col}: {df[col].isin(['?']).sum()}\")"
   ]
  },
  {
   "cell_type": "code",
   "execution_count": 5,
   "id": "22ab600e",
   "metadata": {},
   "outputs": [],
   "source": [
    "df = df.drop(columns=['weight', 'payer_code','medical_specialty'])\n",
    "\n",
    "df['race'] = df['race'].replace('?', 'Unknown')\n",
    "df['diag_1'] = df['diag_1'].replace('?', 'Unknown')\n",
    "df['diag_2'] = df['diag_2'].replace('?', 'Unknown')\n",
    "df['diag_3'] = df['diag_3'].replace('?', 'Unknown')"
   ]
  },
  {
   "cell_type": "code",
   "execution_count": 6,
   "id": "b8e21c73",
   "metadata": {},
   "outputs": [
    {
     "name": "stderr",
     "output_type": "stream",
     "text": [
      "C:\\Users\\Zishan\\AppData\\Local\\Temp\\ipykernel_13560\\551174899.py:1: FutureWarning: Downcasting behavior in `replace` is deprecated and will be removed in a future version. To retain the old behavior, explicitly call `result.infer_objects(copy=False)`. To opt-in to the future behavior, set `pd.set_option('future.no_silent_downcasting', True)`\n",
      "  df['readmitted'] = df['readmitted'].replace({'NO':0,'>30':0,'<30':1})\n"
     ]
    }
   ],
   "source": [
    "df['readmitted'] = df['readmitted'].replace({'NO':0,'>30':0,'<30':1})\n",
    "df_encoded = pd.get_dummies(df,drop_first=True)"
   ]
  },
  {
   "cell_type": "code",
   "execution_count": 7,
   "id": "5460570b",
   "metadata": {},
   "outputs": [],
   "source": [
    "X = df_encoded.drop('readmitted',axis=1)\n",
    "y = df_encoded['readmitted']"
   ]
  },
  {
   "cell_type": "markdown",
   "id": "8df91736",
   "metadata": {},
   "source": [
    "### Splitting Data into Train and Test"
   ]
  },
  {
   "cell_type": "code",
   "execution_count": 8,
   "id": "a208eb26",
   "metadata": {},
   "outputs": [],
   "source": [
    "X_train, X_test, y_train, y_test = train_test_split(X,y, test_size=0.2, random_state=42, stratify=y)"
   ]
  },
  {
   "cell_type": "markdown",
   "id": "ec110716",
   "metadata": {},
   "source": [
    "### Fitting Data into a model"
   ]
  },
  {
   "cell_type": "code",
   "execution_count": 9,
   "id": "28e76292",
   "metadata": {},
   "outputs": [],
   "source": [
    "model = RandomForestClassifier(n_estimators=100, class_weight='balanced', random_state=42)\n",
    "model.fit(X_train, y_train)\n",
    "\n",
    "y_pred = model.predict(X_test)"
   ]
  },
  {
   "cell_type": "markdown",
   "id": "f346b014",
   "metadata": {},
   "source": [
    "### Prediction"
   ]
  },
  {
   "cell_type": "code",
   "execution_count": 10,
   "id": "e5f23c39",
   "metadata": {},
   "outputs": [
    {
     "name": "stdout",
     "output_type": "stream",
     "text": [
      "[0 0 0 ... 0 0 0]\n",
      "              precision    recall  f1-score   support\n",
      "\n",
      "           0       0.89      1.00      0.94     18083\n",
      "           1       0.70      0.01      0.01      2271\n",
      "\n",
      "    accuracy                           0.89     20354\n",
      "   macro avg       0.79      0.50      0.48     20354\n",
      "weighted avg       0.87      0.89      0.84     20354\n",
      "\n",
      "0.8888179227670236\n"
     ]
    }
   ],
   "source": [
    "print(y_pred)\n",
    "\n",
    "print(classification_report(y_test, y_pred))\n",
    "print(accuracy_score(y_test, y_pred))"
   ]
  },
  {
   "cell_type": "markdown",
   "id": "c78947c2",
   "metadata": {},
   "source": [
    "### Feature Importance Analysis"
   ]
  },
  {
   "cell_type": "code",
   "execution_count": 11,
   "id": "2eac436f",
   "metadata": {},
   "outputs": [
    {
     "name": "stdout",
     "output_type": "stream",
     "text": [
      "                     feature  importance\n",
      "0               encounter_id    0.051954\n",
      "1                patient_nbr    0.051172\n",
      "6         num_lab_procedures    0.046438\n",
      "8            num_medications    0.043524\n",
      "11          number_inpatient    0.038514\n",
      "5           time_in_hospital    0.035115\n",
      "3   discharge_disposition_id    0.028962\n",
      "12          number_diagnoses    0.025073\n",
      "7             num_procedures    0.024942\n",
      "2          admission_type_id    0.018964\n"
     ]
    }
   ],
   "source": [
    "importances = model.feature_importances_\n",
    "feature_names = X_train.columns\n",
    "\n",
    "feature_importance_df = pd.DataFrame({'feature':feature_names,'importance':importances})\n",
    "\n",
    "feature_importance_df = feature_importance_df.sort_values(by='importance',ascending=False)\n",
    "\n",
    "print(feature_importance_df.head(10))"
   ]
  },
  {
   "cell_type": "code",
   "execution_count": 12,
   "id": "474aee6b",
   "metadata": {},
   "outputs": [
    {
     "name": "stderr",
     "output_type": "stream",
     "text": [
      "C:\\Users\\Zishan\\AppData\\Local\\Temp\\ipykernel_13560\\3585700327.py:4: FutureWarning: \n",
      "\n",
      "Passing `palette` without assigning `hue` is deprecated and will be removed in v0.14.0. Assign the `y` variable to `hue` and set `legend=False` for the same effect.\n",
      "\n",
      "  sns.barplot(x='importance', y='feature', data=top_features, palette='viridis')\n"
     ]
    },
    {
     "data": {
      "image/png": "[encoded data removed]",
      "text/plain": [
       "<Figure size 1000x600 with 1 Axes>"
      ]
     },
     "metadata": {},
     "output_type": "display_data"
    }
   ],
   "source": [
    "top_features = feature_importance_df.head(10)\n",
    "\n",
    "plt.figure(figsize=(10,6))\n",
    "sns.barplot(x='importance', y='feature', data=top_features, palette='viridis')\n",
    "plt.title(\"Feature Importance\")\n",
    "plt.xlabel('Importance')\n",
    "plt.ylabel('Feature')\n",
    "plt.tight_layout()\n",
    "plt.show()"
   ]
  },
  {
   "cell_type": "markdown",
   "id": "33c4f759",
   "metadata": {},
   "source": [
    "### Confusion Matrix"
   ]
  },
  {
   "cell_type": "code",
   "execution_count": 13,
   "id": "66e19f26",
   "metadata": {},
   "outputs": [
    {
     "data": {
      "image/png": "[encoded data removed]",
      "text/plain": [
       "<Figure size 640x480 with 2 Axes>"
      ]
     },
     "metadata": {},
     "output_type": "display_data"
    }
   ],
   "source": [
    "cm = confusion_matrix(y_test, y_pred)\n",
    "\n",
    "disp = ConfusionMatrixDisplay(confusion_matrix=cm, display_labels=['No Admission', 'Readmission within 30 days'])\n",
    "\n",
    "disp.plot(cmap= 'Blues')\n",
    "plt.title('Confusion Matrix')\n",
    "plt.show()"
   ]
  }
 ],
 "metadata": {
  "kernelspec": {
   "display_name": "Python 3",
   "language": "python",
   "name": "python3"
  },
  "language_info": {
   "codemirror_mode": {
    "name": "ipython",
    "version": 3
   },
   "file_extension": ".py",
   "mimetype": "text/x-python",
   "name": "python",
   "nbconvert_exporter": "python",
   "pygments_lexer": "ipython3",
   "version": "3.9.1"
  }
 },
 "nbformat": 4,
 "nbformat_minor": 5
}
